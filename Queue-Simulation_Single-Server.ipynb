{
 "cells": [
  {
   "cell_type": "markdown",
   "id": "62f9816b",
   "metadata": {},
   "source": [
    "# Single Server Queue Simulation for A Small Grocery Store"
   ]
  },
  {
   "cell_type": "markdown",
   "id": "d0b8402d",
   "metadata": {},
   "source": [
    "## 1. Import Dependencies"
   ]
  },
  {
   "cell_type": "code",
   "execution_count": 214,
   "id": "583db80c",
   "metadata": {},
   "outputs": [],
   "source": [
    "import random\n",
    "from matplotlib import pyplot as plt\n",
    "import plotly.graph_objects as go"
   ]
  },
  {
   "cell_type": "markdown",
   "id": "c940db76",
   "metadata": {},
   "source": [
    "## 2. System Initialization"
   ]
  },
  {
   "cell_type": "code",
   "execution_count": 230,
   "id": "03618a1c",
   "metadata": {},
   "outputs": [],
   "source": [
    "# Simulating the arrival and departure of customers; Creating a list of 100 customers\n",
    "no_of_customers = 100\n",
    "\n",
    "# Creating a list of 100 customers, with a for loop starting from 1\n",
    "customer_number = [i for i in range(1, no_of_customers + 1)]\n",
    "\n",
    "# Service times inputs\n",
    "SERVICE_TIME = [1, 2, 3, 4, 5, 6]\n",
    "SERVICE_PROBABILITY = [0.10, 0.20, 0.30, 0.25, 0.10, 0.05]"
   ]
  },
  {
   "cell_type": "markdown",
   "id": "e171d9d5",
   "metadata": {},
   "source": [
    "### 2.1 Interarrival Time Generation"
   ]
  },
  {
   "cell_type": "code",
   "execution_count": 231,
   "id": "2e5ac69b",
   "metadata": {},
   "outputs": [
    {
     "name": "stdout",
     "output_type": "stream",
     "text": [
      "[0, 2, 4, 4, 7, 4, 1, 3, 2, 8, 1, 7, 4, 7, 6, 4, 3, 4, 6, 8, 2, 3, 3, 4, 3, 2, 5, 8, 3, 8, 4, 1, 2, 4, 8, 4, 3, 7, 4, 3, 3, 8, 2, 4, 6, 4, 8, 6, 2, 2, 8, 4, 7, 4, 7, 5, 7, 8, 3, 6, 6, 2, 2, 5, 8, 8, 4, 2, 7, 1, 8, 2, 8, 5, 6, 4, 6, 5, 3, 7, 7, 3, 6, 5, 1, 6, 1, 7, 2, 3, 1, 1, 8, 6, 1, 7, 8, 1, 5, 1]\n"
     ]
    }
   ],
   "source": [
    "# Generating random interarrival times list\n",
    "\n",
    "def interArrivalTime(no_of_customers):\n",
    "    # random.randint() generates a random integer numbers between (1, 8), as previously given from 1 to 8 minutes\n",
    "    interarrival_time = [random.randint(1, 8) for i in range(no_of_customers)]\n",
    "    \n",
    "    # Initializing the first customer's arrival time in the list with 0\n",
    "    interarrival_time[0] = 0\n",
    "    return interarrival_time\n",
    "\n",
    "interarrival_time = interArrivalTime(no_of_customers)\n",
    "print(interarrival_time)"
   ]
  },
  {
   "cell_type": "markdown",
   "id": "4399779e",
   "metadata": {},
   "source": [
    "### 2.2 Arrival Time Calculation"
   ]
  },
  {
   "cell_type": "code",
   "execution_count": 232,
   "id": "d702ba0c",
   "metadata": {},
   "outputs": [],
   "source": [
    "# Calculating the arrival times, by accumulation, and put them in a list using the random interarrival times\n",
    "\n",
    "def arrivalTimes(interarrival_time, no_of_customers):\n",
    "    arrival_times = [0 for i in range(no_of_customers)]\n",
    "    \n",
    "    for i in range(1, no_of_customers):\n",
    "        arrival_times[i] = interarrival_time[i] + arrival_times[i-1]\n",
    "    return arrival_times\n",
    "\n",
    "arrival_times = arrivalTimes(interarrival_time, no_of_customers)"
   ]
  },
  {
   "cell_type": "markdown",
   "id": "7ca2e0d6",
   "metadata": {},
   "source": [
    "### 2.3 Service Time Generation"
   ]
  },
  {
   "cell_type": "code",
   "execution_count": 233,
   "id": "4f9a1833",
   "metadata": {},
   "outputs": [
    {
     "name": "stdout",
     "output_type": "stream",
     "text": [
      "[2, 3, 4, 5, 3, 4, 5, 4, 2, 4, 6, 4, 3, 2, 2, 6, 3, 3, 3, 4, 3, 2, 5, 3, 4, 2, 4, 3, 3, 4, 2, 6, 2, 2, 4, 5, 4, 3, 4, 4, 4, 4, 3, 3, 6, 3, 2, 3, 3, 1, 5, 6, 5, 4, 2, 3, 6, 3, 3, 2, 4, 6, 4, 5, 5, 4, 1, 2, 4, 4, 4, 2, 2, 4, 3, 2, 4, 3, 3, 4, 5, 6, 1, 2, 5, 4, 5, 1, 1, 5, 3, 2, 4, 1, 1, 1, 2, 5, 1, 2]\n"
     ]
    }
   ],
   "source": [
    "\"\"\" \n",
    "- Generating random service times list using the given service times and their probabilities\n",
    "- random.choices() method returns a list with the randomly selected element  \n",
    "  from the specified sequence (SERVICE_TIME), the possibility for each value (SERVICE_PROBABILITY), \n",
    "  and K = the length of the returned list (no_of_customers)\n",
    "\"\"\"\n",
    "def serviceTime(SERVICE_TIME, SERVICE_PROBABILITY):\n",
    "    service_times = random.choices(SERVICE_TIME, SERVICE_PROBABILITY, k=100)\n",
    "    \n",
    "    return service_times\n",
    "\n",
    "service_times = serviceTime(SERVICE_TIME, SERVICE_PROBABILITY)\n",
    "print(service_times)"
   ]
  },
  {
   "cell_type": "markdown",
   "id": "a27b04af",
   "metadata": {},
   "source": [
    "### 2.4 Service Time Begins and Ends"
   ]
  },
  {
   "cell_type": "code",
   "execution_count": 234,
   "id": "d9ea3322",
   "metadata": {},
   "outputs": [],
   "source": [
    "time_service_begin = [0 for i in range(no_of_customers)]\n",
    "time_service_end = [0 for i in range(no_of_customers)]\n",
    "\n",
    "time_service_begin[0] = arrival_times[0]\n",
    "time_service_end[0] = service_times[0]\n",
    "\n",
    "for i in range(1, no_of_customers):\n",
    "        time_service_begin[i] = max(arrival_times[i], time_service_end[i - 1])\n",
    "        time_service_end[i] = time_service_begin[i] + service_times[i]"
   ]
  },
  {
   "cell_type": "markdown",
   "id": "8b4656b0",
   "metadata": {},
   "source": [
    "### 2.5 Waiting Time in Queue"
   ]
  },
  {
   "cell_type": "code",
   "execution_count": 235,
   "id": "87abe72b",
   "metadata": {},
   "outputs": [],
   "source": [
    "def queueTime(arrival_times, time_service_begin, no_of_customers):\n",
    "    queue_time = [0 for i in range(no_of_customers)]\n",
    "    \n",
    "    for i in range(1, no_of_customers):\n",
    "        queue_time[i] = time_service_begin[i] - arrival_times[i]   \n",
    "    return queue_time\n",
    "\n",
    "queue_time = queueTime(arrival_times, time_service_begin, no_of_customers)"
   ]
  },
  {
   "cell_type": "markdown",
   "id": "0f6d2628",
   "metadata": {},
   "source": [
    "### 2.6 Time Customer Spends in System"
   ]
  },
  {
   "cell_type": "code",
   "execution_count": 236,
   "id": "3ed0ca69",
   "metadata": {},
   "outputs": [],
   "source": [
    "# Calculating the time spent in the system from the arrival time to the end for every customer\n",
    "\n",
    "def timeInSystem(arrival_times, service_times_gen, no_of_customers):\n",
    "    # Initializing the list of the time spent in the system for 100 customers\n",
    "    time_in_system = [0 for i in range(no_of_customers)]\n",
    "\n",
    "    # Initializing the first customer to spend only its service time\n",
    "    time_in_system[0] = service_times_gen[0]\n",
    "\n",
    "    # Calculating the simulation results\n",
    "    for i in range(1, no_of_customers):\n",
    "        time_in_system[i] = time_service_end[i] - arrival_times[i]\n",
    "    return time_in_system\n",
    "\n",
    "time_in_system = timeInSystem(arrival_times, service_times, no_of_customers)"
   ]
  },
  {
   "cell_type": "markdown",
   "id": "8122cbb0",
   "metadata": {},
   "source": [
    "### 2.7 Idle Time of the Server"
   ]
  },
  {
   "cell_type": "code",
   "execution_count": 237,
   "id": "735bef21",
   "metadata": {},
   "outputs": [],
   "source": [
    "# Calculating the idle time of the server\n",
    "    \n",
    "def idle_time(no_of_customers, arrival_times, time_service_end):\n",
    "    idle_time = [0 for i in range(no_of_customers)]\n",
    "    \n",
    "    for i in range(1, no_of_customers):\n",
    "        if arrival_times[i] > time_service_end[i - 1]:\n",
    "            idle_time[i] = arrival_times[i] - time_service_end[i - 1]\n",
    "        else:\n",
    "            idle_time[i] = 0\n",
    "    return idle_time\n",
    "\n",
    "idle_time =  idle_time(no_of_customers, arrival_times, time_service_end)"
   ]
  },
  {
   "cell_type": "markdown",
   "id": "8d7cc42f",
   "metadata": {},
   "source": [
    "### 2.8 Total Time Customers Spend In The System"
   ]
  },
  {
   "cell_type": "code",
   "execution_count": 238,
   "id": "cf2783ed",
   "metadata": {},
   "outputs": [],
   "source": [
    "def totalTimeInSystem(arrival_times, service_times, no_of_customers):\n",
    "    # Initializing the lists of the table \n",
    "    total_time_insystem = [0 for i in range(no_of_customers)]\n",
    "\n",
    "    # Calculating the time for the first customer\n",
    "    total_time_insystem[0] = service_times[0]\n",
    "\n",
    "    # Calculating the time for the rest of the customers\n",
    "    for i in range(1, no_of_customers):\n",
    "        total_time_insystem[i] = time_service_end[i] - arrival_times[i]\n",
    "\n",
    "    return total_time_insystem"
   ]
  },
  {
   "cell_type": "markdown",
   "id": "a4c05f1d",
   "metadata": {},
   "source": [
    "## 3. Results Visualization In Simulation Table"
   ]
  },
  {
   "cell_type": "code",
   "execution_count": 239,
   "id": "4d6b5b87",
   "metadata": {},
   "outputs": [
    {
     "data": {
      "application/vnd.plotly.v1+json": {
       "config": {
        "plotlyServerURL": "https://plot.ly"
       },
       "data": [
        {
         "cells": {
          "align": "center",
          "fill": {
           "color": [
            [
             "white",
             "lightgrey",
             "white",
             "lightgrey",
             "white",
             "lightgrey",
             "white",
             "lightgrey",
             "white",
             "lightgrey",
             "white",
             "lightgrey",
             "white",
             "lightgrey",
             "white",
             "lightgrey",
             "white",
             "lightgrey",
             "white",
             "lightgrey",
             "white",
             "lightgrey",
             "white",
             "lightgrey",
             "white",
             "lightgrey",
             "white",
             "lightgrey",
             "white",
             "lightgrey",
             "white",
             "lightgrey",
             "white",
             "lightgrey",
             "white",
             "lightgrey",
             "white",
             "lightgrey",
             "white",
             "lightgrey",
             "white",
             "lightgrey",
             "white",
             "lightgrey",
             "white",
             "lightgrey",
             "white",
             "lightgrey",
             "white",
             "lightgrey",
             "white",
             "lightgrey",
             "white",
             "lightgrey",
             "white",
             "lightgrey",
             "white",
             "lightgrey",
             "white",
             "lightgrey",
             "white",
             "lightgrey",
             "white",
             "lightgrey",
             "white",
             "lightgrey",
             "white",
             "lightgrey",
             "white",
             "lightgrey",
             "white",
             "lightgrey",
             "white",
             "lightgrey",
             "white",
             "lightgrey",
             "white",
             "lightgrey",
             "white",
             "lightgrey",
             "white",
             "lightgrey",
             "white",
             "lightgrey",
             "white",
             "lightgrey",
             "white",
             "lightgrey",
             "white",
             "lightgrey",
             "white",
             "lightgrey",
             "white",
             "lightgrey",
             "white",
             "lightgrey",
             "white",
             "lightgrey",
             "white",
             "lightgrey",
             "white",
             "lightgrey",
             "white",
             "lightgrey",
             "white",
             "lightgrey",
             "white",
             "lightgrey",
             "white",
             "lightgrey",
             "white",
             "lightgrey",
             "white",
             "lightgrey",
             "white",
             "lightgrey",
             "white",
             "lightgrey",
             "white",
             "lightgrey",
             "white",
             "lightgrey",
             "white",
             "lightgrey",
             "white",
             "lightgrey",
             "white",
             "lightgrey",
             "white",
             "lightgrey",
             "white",
             "lightgrey",
             "white",
             "lightgrey",
             "white",
             "lightgrey",
             "white",
             "lightgrey",
             "white",
             "lightgrey",
             "white",
             "lightgrey",
             "white",
             "lightgrey",
             "white",
             "lightgrey",
             "white",
             "lightgrey",
             "white",
             "lightgrey",
             "white",
             "lightgrey",
             "white",
             "lightgrey",
             "white",
             "lightgrey",
             "white",
             "lightgrey",
             "white",
             "lightgrey",
             "white",
             "lightgrey",
             "white",
             "lightgrey",
             "white",
             "lightgrey",
             "white",
             "lightgrey",
             "white",
             "lightgrey",
             "white",
             "lightgrey",
             "white",
             "lightgrey",
             "white",
             "lightgrey",
             "white",
             "lightgrey",
             "white",
             "lightgrey",
             "white",
             "lightgrey",
             "white",
             "lightgrey",
             "white",
             "lightgrey",
             "white",
             "lightgrey",
             "white",
             "lightgrey",
             "white",
             "lightgrey",
             "white",
             "lightgrey",
             "white",
             "lightgrey",
             "white",
             "lightgrey",
             "white",
             "lightgrey"
            ]
           ]
          },
          "line": {
           "color": "gray"
          },
          "values": [
           [
            1,
            2,
            3,
            4,
            5,
            6,
            7,
            8,
            9,
            10,
            11,
            12,
            13,
            14,
            15,
            16,
            17,
            18,
            19,
            20,
            21,
            22,
            23,
            24,
            25,
            26,
            27,
            28,
            29,
            30,
            31,
            32,
            33,
            34,
            35,
            36,
            37,
            38,
            39,
            40,
            41,
            42,
            43,
            44,
            45,
            46,
            47,
            48,
            49,
            50,
            51,
            52,
            53,
            54,
            55,
            56,
            57,
            58,
            59,
            60,
            61,
            62,
            63,
            64,
            65,
            66,
            67,
            68,
            69,
            70,
            71,
            72,
            73,
            74,
            75,
            76,
            77,
            78,
            79,
            80,
            81,
            82,
            83,
            84,
            85,
            86,
            87,
            88,
            89,
            90,
            91,
            92,
            93,
            94,
            95,
            96,
            97,
            98,
            99,
            100
           ],
           [
            0,
            2,
            4,
            4,
            7,
            4,
            1,
            3,
            2,
            8,
            1,
            7,
            4,
            7,
            6,
            4,
            3,
            4,
            6,
            8,
            2,
            3,
            3,
            4,
            3,
            2,
            5,
            8,
            3,
            8,
            4,
            1,
            2,
            4,
            8,
            4,
            3,
            7,
            4,
            3,
            3,
            8,
            2,
            4,
            6,
            4,
            8,
            6,
            2,
            2,
            8,
            4,
            7,
            4,
            7,
            5,
            7,
            8,
            3,
            6,
            6,
            2,
            2,
            5,
            8,
            8,
            4,
            2,
            7,
            1,
            8,
            2,
            8,
            5,
            6,
            4,
            6,
            5,
            3,
            7,
            7,
            3,
            6,
            5,
            1,
            6,
            1,
            7,
            2,
            3,
            1,
            1,
            8,
            6,
            1,
            7,
            8,
            1,
            5,
            1
           ],
           [
            0,
            2,
            6,
            10,
            17,
            21,
            22,
            25,
            27,
            35,
            36,
            43,
            47,
            54,
            60,
            64,
            67,
            71,
            77,
            85,
            87,
            90,
            93,
            97,
            100,
            102,
            107,
            115,
            118,
            126,
            130,
            131,
            133,
            137,
            145,
            149,
            152,
            159,
            163,
            166,
            169,
            177,
            179,
            183,
            189,
            193,
            201,
            207,
            209,
            211,
            219,
            223,
            230,
            234,
            241,
            246,
            253,
            261,
            264,
            270,
            276,
            278,
            280,
            285,
            293,
            301,
            305,
            307,
            314,
            315,
            323,
            325,
            333,
            338,
            344,
            348,
            354,
            359,
            362,
            369,
            376,
            379,
            385,
            390,
            391,
            397,
            398,
            405,
            407,
            410,
            411,
            412,
            420,
            426,
            427,
            434,
            442,
            443,
            448,
            449
           ],
           [
            2,
            3,
            4,
            5,
            3,
            4,
            5,
            4,
            2,
            4,
            6,
            4,
            3,
            2,
            2,
            6,
            3,
            3,
            3,
            4,
            3,
            2,
            5,
            3,
            4,
            2,
            4,
            3,
            3,
            4,
            2,
            6,
            2,
            2,
            4,
            5,
            4,
            3,
            4,
            4,
            4,
            4,
            3,
            3,
            6,
            3,
            2,
            3,
            3,
            1,
            5,
            6,
            5,
            4,
            2,
            3,
            6,
            3,
            3,
            2,
            4,
            6,
            4,
            5,
            5,
            4,
            1,
            2,
            4,
            4,
            4,
            2,
            2,
            4,
            3,
            2,
            4,
            3,
            3,
            4,
            5,
            6,
            1,
            2,
            5,
            4,
            5,
            1,
            1,
            5,
            3,
            2,
            4,
            1,
            1,
            1,
            2,
            5,
            1,
            2
           ],
           [
            0,
            2,
            6,
            10,
            17,
            21,
            25,
            30,
            34,
            36,
            40,
            46,
            50,
            54,
            60,
            64,
            70,
            73,
            77,
            85,
            89,
            92,
            94,
            99,
            102,
            106,
            108,
            115,
            118,
            126,
            130,
            132,
            138,
            140,
            145,
            149,
            154,
            159,
            163,
            167,
            171,
            177,
            181,
            184,
            189,
            195,
            201,
            207,
            210,
            213,
            219,
            224,
            230,
            235,
            241,
            246,
            253,
            261,
            264,
            270,
            276,
            280,
            286,
            290,
            295,
            301,
            305,
            307,
            314,
            318,
            323,
            327,
            333,
            338,
            344,
            348,
            354,
            359,
            362,
            369,
            376,
            381,
            387,
            390,
            392,
            397,
            401,
            406,
            407,
            410,
            415,
            418,
            420,
            426,
            427,
            434,
            442,
            444,
            449,
            450
           ],
           [
            0,
            0,
            0,
            0,
            0,
            0,
            3,
            5,
            7,
            1,
            4,
            3,
            3,
            0,
            0,
            0,
            3,
            2,
            0,
            0,
            2,
            2,
            1,
            2,
            2,
            4,
            1,
            0,
            0,
            0,
            0,
            1,
            5,
            3,
            0,
            0,
            2,
            0,
            0,
            1,
            2,
            0,
            2,
            1,
            0,
            2,
            0,
            0,
            1,
            2,
            0,
            1,
            0,
            1,
            0,
            0,
            0,
            0,
            0,
            0,
            0,
            2,
            6,
            5,
            2,
            0,
            0,
            0,
            0,
            3,
            0,
            2,
            0,
            0,
            0,
            0,
            0,
            0,
            0,
            0,
            0,
            2,
            2,
            0,
            1,
            0,
            3,
            1,
            0,
            0,
            4,
            6,
            0,
            0,
            0,
            0,
            0,
            1,
            1,
            1
           ],
           [
            2,
            5,
            10,
            15,
            20,
            25,
            30,
            34,
            36,
            40,
            46,
            50,
            53,
            56,
            62,
            70,
            73,
            76,
            80,
            89,
            92,
            94,
            99,
            102,
            106,
            108,
            112,
            118,
            121,
            130,
            132,
            138,
            140,
            142,
            149,
            154,
            158,
            162,
            167,
            171,
            175,
            181,
            184,
            187,
            195,
            198,
            203,
            210,
            213,
            214,
            224,
            230,
            235,
            239,
            243,
            249,
            259,
            264,
            267,
            272,
            280,
            286,
            290,
            295,
            300,
            305,
            306,
            309,
            318,
            322,
            327,
            329,
            335,
            342,
            347,
            350,
            358,
            362,
            365,
            373,
            381,
            387,
            388,
            392,
            397,
            401,
            406,
            407,
            408,
            415,
            418,
            420,
            424,
            427,
            428,
            435,
            444,
            449,
            450,
            452
           ],
           [
            2,
            3,
            4,
            5,
            3,
            4,
            8,
            9,
            9,
            5,
            10,
            7,
            6,
            2,
            2,
            6,
            6,
            5,
            3,
            4,
            5,
            4,
            6,
            5,
            6,
            6,
            5,
            3,
            3,
            4,
            2,
            7,
            7,
            5,
            4,
            5,
            6,
            3,
            4,
            5,
            6,
            4,
            5,
            4,
            6,
            5,
            2,
            3,
            4,
            3,
            5,
            7,
            5,
            5,
            2,
            3,
            6,
            3,
            3,
            2,
            4,
            8,
            10,
            10,
            7,
            4,
            1,
            2,
            4,
            7,
            4,
            4,
            2,
            4,
            3,
            2,
            4,
            3,
            3,
            4,
            5,
            8,
            3,
            2,
            6,
            4,
            8,
            2,
            1,
            5,
            7,
            8,
            4,
            1,
            1,
            1,
            2,
            6,
            2,
            3
           ],
           [
            0,
            0,
            1,
            0,
            2,
            1,
            0,
            0,
            0,
            0,
            0,
            0,
            0,
            1,
            4,
            2,
            0,
            0,
            1,
            5,
            0,
            0,
            0,
            0,
            0,
            0,
            0,
            3,
            0,
            5,
            0,
            0,
            0,
            0,
            3,
            0,
            0,
            1,
            1,
            0,
            0,
            2,
            0,
            0,
            2,
            0,
            3,
            4,
            0,
            0,
            5,
            0,
            0,
            0,
            2,
            3,
            4,
            2,
            0,
            3,
            4,
            0,
            0,
            0,
            0,
            1,
            0,
            1,
            5,
            0,
            1,
            0,
            4,
            3,
            2,
            1,
            4,
            1,
            0,
            4,
            3,
            0,
            0,
            2,
            0,
            0,
            0,
            0,
            0,
            2,
            0,
            0,
            0,
            2,
            0,
            6,
            7,
            0,
            0,
            0
           ]
          ]
         },
         "header": {
          "align": "center",
          "fill": {
           "color": "lavender"
          },
          "font": {
           "size": 13
          },
          "line": {
           "color": "darkslategray"
          },
          "values": [
           "<b>Customer</b>",
           "<b>Interarrival time (min)</b>",
           "<b>Arrival time</b>",
           "<b>Service time (min)</b>",
           "<b>Time service begins</b>",
           "<b>Waiting time in queue (min)</b>",
           "<b>Time service ends</b>",
           "<b>Time customer spends in system</b>",
           "<b>Idle time of server</b>"
          ]
         },
         "type": "table"
        }
       ],
       "layout": {
        "height": 500,
        "template": {
         "data": {
          "bar": [
           {
            "error_x": {
             "color": "#2a3f5f"
            },
            "error_y": {
             "color": "#2a3f5f"
            },
            "marker": {
             "line": {
              "color": "#E5ECF6",
              "width": 0.5
             },
             "pattern": {
              "fillmode": "overlay",
              "size": 10,
              "solidity": 0.2
             }
            },
            "type": "bar"
           }
          ],
          "barpolar": [
           {
            "marker": {
             "line": {
              "color": "#E5ECF6",
              "width": 0.5
             },
             "pattern": {
              "fillmode": "overlay",
              "size": 10,
              "solidity": 0.2
             }
            },
            "type": "barpolar"
           }
          ],
          "carpet": [
           {
            "aaxis": {
             "endlinecolor": "#2a3f5f",
             "gridcolor": "white",
             "linecolor": "white",
             "minorgridcolor": "white",
             "startlinecolor": "#2a3f5f"
            },
            "baxis": {
             "endlinecolor": "#2a3f5f",
             "gridcolor": "white",
             "linecolor": "white",
             "minorgridcolor": "white",
             "startlinecolor": "#2a3f5f"
            },
            "type": "carpet"
           }
          ],
          "choropleth": [
           {
            "colorbar": {
             "outlinewidth": 0,
             "ticks": ""
            },
            "type": "choropleth"
           }
          ],
          "contour": [
           {
            "colorbar": {
             "outlinewidth": 0,
             "ticks": ""
            },
            "colorscale": [
             [
              0,
              "#0d0887"
             ],
             [
              0.1111111111111111,
              "#46039f"
             ],
             [
              0.2222222222222222,
              "#7201a8"
             ],
             [
              0.3333333333333333,
              "#9c179e"
             ],
             [
              0.4444444444444444,
              "#bd3786"
             ],
             [
              0.5555555555555556,
              "#d8576b"
             ],
             [
              0.6666666666666666,
              "#ed7953"
             ],
             [
              0.7777777777777778,
              "#fb9f3a"
             ],
             [
              0.8888888888888888,
              "#fdca26"
             ],
             [
              1,
              "#f0f921"
             ]
            ],
            "type": "contour"
           }
          ],
          "contourcarpet": [
           {
            "colorbar": {
             "outlinewidth": 0,
             "ticks": ""
            },
            "type": "contourcarpet"
           }
          ],
          "heatmap": [
           {
            "colorbar": {
             "outlinewidth": 0,
             "ticks": ""
            },
            "colorscale": [
             [
              0,
              "#0d0887"
             ],
             [
              0.1111111111111111,
              "#46039f"
             ],
             [
              0.2222222222222222,
              "#7201a8"
             ],
             [
              0.3333333333333333,
              "#9c179e"
             ],
             [
              0.4444444444444444,
              "#bd3786"
             ],
             [
              0.5555555555555556,
              "#d8576b"
             ],
             [
              0.6666666666666666,
              "#ed7953"
             ],
             [
              0.7777777777777778,
              "#fb9f3a"
             ],
             [
              0.8888888888888888,
              "#fdca26"
             ],
             [
              1,
              "#f0f921"
             ]
            ],
            "type": "heatmap"
           }
          ],
          "heatmapgl": [
           {
            "colorbar": {
             "outlinewidth": 0,
             "ticks": ""
            },
            "colorscale": [
             [
              0,
              "#0d0887"
             ],
             [
              0.1111111111111111,
              "#46039f"
             ],
             [
              0.2222222222222222,
              "#7201a8"
             ],
             [
              0.3333333333333333,
              "#9c179e"
             ],
             [
              0.4444444444444444,
              "#bd3786"
             ],
             [
              0.5555555555555556,
              "#d8576b"
             ],
             [
              0.6666666666666666,
              "#ed7953"
             ],
             [
              0.7777777777777778,
              "#fb9f3a"
             ],
             [
              0.8888888888888888,
              "#fdca26"
             ],
             [
              1,
              "#f0f921"
             ]
            ],
            "type": "heatmapgl"
           }
          ],
          "histogram": [
           {
            "marker": {
             "pattern": {
              "fillmode": "overlay",
              "size": 10,
              "solidity": 0.2
             }
            },
            "type": "histogram"
           }
          ],
          "histogram2d": [
           {
            "colorbar": {
             "outlinewidth": 0,
             "ticks": ""
            },
            "colorscale": [
             [
              0,
              "#0d0887"
             ],
             [
              0.1111111111111111,
              "#46039f"
             ],
             [
              0.2222222222222222,
              "#7201a8"
             ],
             [
              0.3333333333333333,
              "#9c179e"
             ],
             [
              0.4444444444444444,
              "#bd3786"
             ],
             [
              0.5555555555555556,
              "#d8576b"
             ],
             [
              0.6666666666666666,
              "#ed7953"
             ],
             [
              0.7777777777777778,
              "#fb9f3a"
             ],
             [
              0.8888888888888888,
              "#fdca26"
             ],
             [
              1,
              "#f0f921"
             ]
            ],
            "type": "histogram2d"
           }
          ],
          "histogram2dcontour": [
           {
            "colorbar": {
             "outlinewidth": 0,
             "ticks": ""
            },
            "colorscale": [
             [
              0,
              "#0d0887"
             ],
             [
              0.1111111111111111,
              "#46039f"
             ],
             [
              0.2222222222222222,
              "#7201a8"
             ],
             [
              0.3333333333333333,
              "#9c179e"
             ],
             [
              0.4444444444444444,
              "#bd3786"
             ],
             [
              0.5555555555555556,
              "#d8576b"
             ],
             [
              0.6666666666666666,
              "#ed7953"
             ],
             [
              0.7777777777777778,
              "#fb9f3a"
             ],
             [
              0.8888888888888888,
              "#fdca26"
             ],
             [
              1,
              "#f0f921"
             ]
            ],
            "type": "histogram2dcontour"
           }
          ],
          "mesh3d": [
           {
            "colorbar": {
             "outlinewidth": 0,
             "ticks": ""
            },
            "type": "mesh3d"
           }
          ],
          "parcoords": [
           {
            "line": {
             "colorbar": {
              "outlinewidth": 0,
              "ticks": ""
             }
            },
            "type": "parcoords"
           }
          ],
          "pie": [
           {
            "automargin": true,
            "type": "pie"
           }
          ],
          "scatter": [
           {
            "fillpattern": {
             "fillmode": "overlay",
             "size": 10,
             "solidity": 0.2
            },
            "type": "scatter"
           }
          ],
          "scatter3d": [
           {
            "line": {
             "colorbar": {
              "outlinewidth": 0,
              "ticks": ""
             }
            },
            "marker": {
             "colorbar": {
              "outlinewidth": 0,
              "ticks": ""
             }
            },
            "type": "scatter3d"
           }
          ],
          "scattercarpet": [
           {
            "marker": {
             "colorbar": {
              "outlinewidth": 0,
              "ticks": ""
             }
            },
            "type": "scattercarpet"
           }
          ],
          "scattergeo": [
           {
            "marker": {
             "colorbar": {
              "outlinewidth": 0,
              "ticks": ""
             }
            },
            "type": "scattergeo"
           }
          ],
          "scattergl": [
           {
            "marker": {
             "colorbar": {
              "outlinewidth": 0,
              "ticks": ""
             }
            },
            "type": "scattergl"
           }
          ],
          "scattermapbox": [
           {
            "marker": {
             "colorbar": {
              "outlinewidth": 0,
              "ticks": ""
             }
            },
            "type": "scattermapbox"
           }
          ],
          "scatterpolar": [
           {
            "marker": {
             "colorbar": {
              "outlinewidth": 0,
              "ticks": ""
             }
            },
            "type": "scatterpolar"
           }
          ],
          "scatterpolargl": [
           {
            "marker": {
             "colorbar": {
              "outlinewidth": 0,
              "ticks": ""
             }
            },
            "type": "scatterpolargl"
           }
          ],
          "scatterternary": [
           {
            "marker": {
             "colorbar": {
              "outlinewidth": 0,
              "ticks": ""
             }
            },
            "type": "scatterternary"
           }
          ],
          "surface": [
           {
            "colorbar": {
             "outlinewidth": 0,
             "ticks": ""
            },
            "colorscale": [
             [
              0,
              "#0d0887"
             ],
             [
              0.1111111111111111,
              "#46039f"
             ],
             [
              0.2222222222222222,
              "#7201a8"
             ],
             [
              0.3333333333333333,
              "#9c179e"
             ],
             [
              0.4444444444444444,
              "#bd3786"
             ],
             [
              0.5555555555555556,
              "#d8576b"
             ],
             [
              0.6666666666666666,
              "#ed7953"
             ],
             [
              0.7777777777777778,
              "#fb9f3a"
             ],
             [
              0.8888888888888888,
              "#fdca26"
             ],
             [
              1,
              "#f0f921"
             ]
            ],
            "type": "surface"
           }
          ],
          "table": [
           {
            "cells": {
             "fill": {
              "color": "#EBF0F8"
             },
             "line": {
              "color": "white"
             }
            },
            "header": {
             "fill": {
              "color": "#C8D4E3"
             },
             "line": {
              "color": "white"
             }
            },
            "type": "table"
           }
          ]
         },
         "layout": {
          "annotationdefaults": {
           "arrowcolor": "#2a3f5f",
           "arrowhead": 0,
           "arrowwidth": 1
          },
          "autotypenumbers": "strict",
          "coloraxis": {
           "colorbar": {
            "outlinewidth": 0,
            "ticks": ""
           }
          },
          "colorscale": {
           "diverging": [
            [
             0,
             "#8e0152"
            ],
            [
             0.1,
             "#c51b7d"
            ],
            [
             0.2,
             "#de77ae"
            ],
            [
             0.3,
             "#f1b6da"
            ],
            [
             0.4,
             "#fde0ef"
            ],
            [
             0.5,
             "#f7f7f7"
            ],
            [
             0.6,
             "#e6f5d0"
            ],
            [
             0.7,
             "#b8e186"
            ],
            [
             0.8,
             "#7fbc41"
            ],
            [
             0.9,
             "#4d9221"
            ],
            [
             1,
             "#276419"
            ]
           ],
           "sequential": [
            [
             0,
             "#0d0887"
            ],
            [
             0.1111111111111111,
             "#46039f"
            ],
            [
             0.2222222222222222,
             "#7201a8"
            ],
            [
             0.3333333333333333,
             "#9c179e"
            ],
            [
             0.4444444444444444,
             "#bd3786"
            ],
            [
             0.5555555555555556,
             "#d8576b"
            ],
            [
             0.6666666666666666,
             "#ed7953"
            ],
            [
             0.7777777777777778,
             "#fb9f3a"
            ],
            [
             0.8888888888888888,
             "#fdca26"
            ],
            [
             1,
             "#f0f921"
            ]
           ],
           "sequentialminus": [
            [
             0,
             "#0d0887"
            ],
            [
             0.1111111111111111,
             "#46039f"
            ],
            [
             0.2222222222222222,
             "#7201a8"
            ],
            [
             0.3333333333333333,
             "#9c179e"
            ],
            [
             0.4444444444444444,
             "#bd3786"
            ],
            [
             0.5555555555555556,
             "#d8576b"
            ],
            [
             0.6666666666666666,
             "#ed7953"
            ],
            [
             0.7777777777777778,
             "#fb9f3a"
            ],
            [
             0.8888888888888888,
             "#fdca26"
            ],
            [
             1,
             "#f0f921"
            ]
           ]
          },
          "colorway": [
           "#636efa",
           "#EF553B",
           "#00cc96",
           "#ab63fa",
           "#FFA15A",
           "#19d3f3",
           "#FF6692",
           "#B6E880",
           "#FF97FF",
           "#FECB52"
          ],
          "font": {
           "color": "#2a3f5f"
          },
          "geo": {
           "bgcolor": "white",
           "lakecolor": "white",
           "landcolor": "#E5ECF6",
           "showlakes": true,
           "showland": true,
           "subunitcolor": "white"
          },
          "hoverlabel": {
           "align": "left"
          },
          "hovermode": "closest",
          "mapbox": {
           "style": "light"
          },
          "paper_bgcolor": "white",
          "plot_bgcolor": "#E5ECF6",
          "polar": {
           "angularaxis": {
            "gridcolor": "white",
            "linecolor": "white",
            "ticks": ""
           },
           "bgcolor": "#E5ECF6",
           "radialaxis": {
            "gridcolor": "white",
            "linecolor": "white",
            "ticks": ""
           }
          },
          "scene": {
           "xaxis": {
            "backgroundcolor": "#E5ECF6",
            "gridcolor": "white",
            "gridwidth": 2,
            "linecolor": "white",
            "showbackground": true,
            "ticks": "",
            "zerolinecolor": "white"
           },
           "yaxis": {
            "backgroundcolor": "#E5ECF6",
            "gridcolor": "white",
            "gridwidth": 2,
            "linecolor": "white",
            "showbackground": true,
            "ticks": "",
            "zerolinecolor": "white"
           },
           "zaxis": {
            "backgroundcolor": "#E5ECF6",
            "gridcolor": "white",
            "gridwidth": 2,
            "linecolor": "white",
            "showbackground": true,
            "ticks": "",
            "zerolinecolor": "white"
           }
          },
          "shapedefaults": {
           "line": {
            "color": "#2a3f5f"
           }
          },
          "ternary": {
           "aaxis": {
            "gridcolor": "white",
            "linecolor": "white",
            "ticks": ""
           },
           "baxis": {
            "gridcolor": "white",
            "linecolor": "white",
            "ticks": ""
           },
           "bgcolor": "#E5ECF6",
           "caxis": {
            "gridcolor": "white",
            "linecolor": "white",
            "ticks": ""
           }
          },
          "title": {
           "x": 0.05
          },
          "xaxis": {
           "automargin": true,
           "gridcolor": "white",
           "linecolor": "white",
           "ticks": "",
           "title": {
            "standoff": 15
           },
           "zerolinecolor": "white",
           "zerolinewidth": 2
          },
          "yaxis": {
           "automargin": true,
           "gridcolor": "white",
           "linecolor": "white",
           "ticks": "",
           "title": {
            "standoff": 15
           },
           "zerolinecolor": "white",
           "zerolinewidth": 2
          }
         }
        },
        "width": 1000
       }
      },
      "text/html": [
       "<div>                            <div id=\"d3a2c393-f887-46bd-8ce3-5f57aa356873\" class=\"plotly-graph-div\" style=\"height:500px; width:1000px;\"></div>            <script type=\"text/javascript\">                require([\"plotly\"], function(Plotly) {                    window.PLOTLYENV=window.PLOTLYENV || {};                                    if (document.getElementById(\"d3a2c393-f887-46bd-8ce3-5f57aa356873\")) {                    Plotly.newPlot(                        \"d3a2c393-f887-46bd-8ce3-5f57aa356873\",                        [{\"cells\":{\"align\":\"center\",\"fill\":{\"color\":[[\"white\",\"lightgrey\",\"white\",\"lightgrey\",\"white\",\"lightgrey\",\"white\",\"lightgrey\",\"white\",\"lightgrey\",\"white\",\"lightgrey\",\"white\",\"lightgrey\",\"white\",\"lightgrey\",\"white\",\"lightgrey\",\"white\",\"lightgrey\",\"white\",\"lightgrey\",\"white\",\"lightgrey\",\"white\",\"lightgrey\",\"white\",\"lightgrey\",\"white\",\"lightgrey\",\"white\",\"lightgrey\",\"white\",\"lightgrey\",\"white\",\"lightgrey\",\"white\",\"lightgrey\",\"white\",\"lightgrey\",\"white\",\"lightgrey\",\"white\",\"lightgrey\",\"white\",\"lightgrey\",\"white\",\"lightgrey\",\"white\",\"lightgrey\",\"white\",\"lightgrey\",\"white\",\"lightgrey\",\"white\",\"lightgrey\",\"white\",\"lightgrey\",\"white\",\"lightgrey\",\"white\",\"lightgrey\",\"white\",\"lightgrey\",\"white\",\"lightgrey\",\"white\",\"lightgrey\",\"white\",\"lightgrey\",\"white\",\"lightgrey\",\"white\",\"lightgrey\",\"white\",\"lightgrey\",\"white\",\"lightgrey\",\"white\",\"lightgrey\",\"white\",\"lightgrey\",\"white\",\"lightgrey\",\"white\",\"lightgrey\",\"white\",\"lightgrey\",\"white\",\"lightgrey\",\"white\",\"lightgrey\",\"white\",\"lightgrey\",\"white\",\"lightgrey\",\"white\",\"lightgrey\",\"white\",\"lightgrey\",\"white\",\"lightgrey\",\"white\",\"lightgrey\",\"white\",\"lightgrey\",\"white\",\"lightgrey\",\"white\",\"lightgrey\",\"white\",\"lightgrey\",\"white\",\"lightgrey\",\"white\",\"lightgrey\",\"white\",\"lightgrey\",\"white\",\"lightgrey\",\"white\",\"lightgrey\",\"white\",\"lightgrey\",\"white\",\"lightgrey\",\"white\",\"lightgrey\",\"white\",\"lightgrey\",\"white\",\"lightgrey\",\"white\",\"lightgrey\",\"white\",\"lightgrey\",\"white\",\"lightgrey\",\"white\",\"lightgrey\",\"white\",\"lightgrey\",\"white\",\"lightgrey\",\"white\",\"lightgrey\",\"white\",\"lightgrey\",\"white\",\"lightgrey\",\"white\",\"lightgrey\",\"white\",\"lightgrey\",\"white\",\"lightgrey\",\"white\",\"lightgrey\",\"white\",\"lightgrey\",\"white\",\"lightgrey\",\"white\",\"lightgrey\",\"white\",\"lightgrey\",\"white\",\"lightgrey\",\"white\",\"lightgrey\",\"white\",\"lightgrey\",\"white\",\"lightgrey\",\"white\",\"lightgrey\",\"white\",\"lightgrey\",\"white\",\"lightgrey\",\"white\",\"lightgrey\",\"white\",\"lightgrey\",\"white\",\"lightgrey\",\"white\",\"lightgrey\",\"white\",\"lightgrey\",\"white\",\"lightgrey\",\"white\",\"lightgrey\",\"white\",\"lightgrey\",\"white\",\"lightgrey\",\"white\",\"lightgrey\"]]},\"line\":{\"color\":\"gray\"},\"values\":[[1,2,3,4,5,6,7,8,9,10,11,12,13,14,15,16,17,18,19,20,21,22,23,24,25,26,27,28,29,30,31,32,33,34,35,36,37,38,39,40,41,42,43,44,45,46,47,48,49,50,51,52,53,54,55,56,57,58,59,60,61,62,63,64,65,66,67,68,69,70,71,72,73,74,75,76,77,78,79,80,81,82,83,84,85,86,87,88,89,90,91,92,93,94,95,96,97,98,99,100],[0,2,4,4,7,4,1,3,2,8,1,7,4,7,6,4,3,4,6,8,2,3,3,4,3,2,5,8,3,8,4,1,2,4,8,4,3,7,4,3,3,8,2,4,6,4,8,6,2,2,8,4,7,4,7,5,7,8,3,6,6,2,2,5,8,8,4,2,7,1,8,2,8,5,6,4,6,5,3,7,7,3,6,5,1,6,1,7,2,3,1,1,8,6,1,7,8,1,5,1],[0,2,6,10,17,21,22,25,27,35,36,43,47,54,60,64,67,71,77,85,87,90,93,97,100,102,107,115,118,126,130,131,133,137,145,149,152,159,163,166,169,177,179,183,189,193,201,207,209,211,219,223,230,234,241,246,253,261,264,270,276,278,280,285,293,301,305,307,314,315,323,325,333,338,344,348,354,359,362,369,376,379,385,390,391,397,398,405,407,410,411,412,420,426,427,434,442,443,448,449],[2,3,4,5,3,4,5,4,2,4,6,4,3,2,2,6,3,3,3,4,3,2,5,3,4,2,4,3,3,4,2,6,2,2,4,5,4,3,4,4,4,4,3,3,6,3,2,3,3,1,5,6,5,4,2,3,6,3,3,2,4,6,4,5,5,4,1,2,4,4,4,2,2,4,3,2,4,3,3,4,5,6,1,2,5,4,5,1,1,5,3,2,4,1,1,1,2,5,1,2],[0,2,6,10,17,21,25,30,34,36,40,46,50,54,60,64,70,73,77,85,89,92,94,99,102,106,108,115,118,126,130,132,138,140,145,149,154,159,163,167,171,177,181,184,189,195,201,207,210,213,219,224,230,235,241,246,253,261,264,270,276,280,286,290,295,301,305,307,314,318,323,327,333,338,344,348,354,359,362,369,376,381,387,390,392,397,401,406,407,410,415,418,420,426,427,434,442,444,449,450],[0,0,0,0,0,0,3,5,7,1,4,3,3,0,0,0,3,2,0,0,2,2,1,2,2,4,1,0,0,0,0,1,5,3,0,0,2,0,0,1,2,0,2,1,0,2,0,0,1,2,0,1,0,1,0,0,0,0,0,0,0,2,6,5,2,0,0,0,0,3,0,2,0,0,0,0,0,0,0,0,0,2,2,0,1,0,3,1,0,0,4,6,0,0,0,0,0,1,1,1],[2,5,10,15,20,25,30,34,36,40,46,50,53,56,62,70,73,76,80,89,92,94,99,102,106,108,112,118,121,130,132,138,140,142,149,154,158,162,167,171,175,181,184,187,195,198,203,210,213,214,224,230,235,239,243,249,259,264,267,272,280,286,290,295,300,305,306,309,318,322,327,329,335,342,347,350,358,362,365,373,381,387,388,392,397,401,406,407,408,415,418,420,424,427,428,435,444,449,450,452],[2,3,4,5,3,4,8,9,9,5,10,7,6,2,2,6,6,5,3,4,5,4,6,5,6,6,5,3,3,4,2,7,7,5,4,5,6,3,4,5,6,4,5,4,6,5,2,3,4,3,5,7,5,5,2,3,6,3,3,2,4,8,10,10,7,4,1,2,4,7,4,4,2,4,3,2,4,3,3,4,5,8,3,2,6,4,8,2,1,5,7,8,4,1,1,1,2,6,2,3],[0,0,1,0,2,1,0,0,0,0,0,0,0,1,4,2,0,0,1,5,0,0,0,0,0,0,0,3,0,5,0,0,0,0,3,0,0,1,1,0,0,2,0,0,2,0,3,4,0,0,5,0,0,0,2,3,4,2,0,3,4,0,0,0,0,1,0,1,5,0,1,0,4,3,2,1,4,1,0,4,3,0,0,2,0,0,0,0,0,2,0,0,0,2,0,6,7,0,0,0]]},\"header\":{\"align\":\"center\",\"fill\":{\"color\":\"lavender\"},\"font\":{\"size\":13},\"line\":{\"color\":\"darkslategray\"},\"values\":[\"<b>Customer</b>\",\"<b>Interarrival time (min)</b>\",\"<b>Arrival time</b>\",\"<b>Service time (min)</b>\",\"<b>Time service begins</b>\",\"<b>Waiting time in queue (min)</b>\",\"<b>Time service ends</b>\",\"<b>Time customer spends in system</b>\",\"<b>Idle time of server</b>\"]},\"type\":\"table\"}],                        {\"template\":{\"data\":{\"histogram2dcontour\":[{\"type\":\"histogram2dcontour\",\"colorbar\":{\"outlinewidth\":0,\"ticks\":\"\"},\"colorscale\":[[0.0,\"#0d0887\"],[0.1111111111111111,\"#46039f\"],[0.2222222222222222,\"#7201a8\"],[0.3333333333333333,\"#9c179e\"],[0.4444444444444444,\"#bd3786\"],[0.5555555555555556,\"#d8576b\"],[0.6666666666666666,\"#ed7953\"],[0.7777777777777778,\"#fb9f3a\"],[0.8888888888888888,\"#fdca26\"],[1.0,\"#f0f921\"]]}],\"choropleth\":[{\"type\":\"choropleth\",\"colorbar\":{\"outlinewidth\":0,\"ticks\":\"\"}}],\"histogram2d\":[{\"type\":\"histogram2d\",\"colorbar\":{\"outlinewidth\":0,\"ticks\":\"\"},\"colorscale\":[[0.0,\"#0d0887\"],[0.1111111111111111,\"#46039f\"],[0.2222222222222222,\"#7201a8\"],[0.3333333333333333,\"#9c179e\"],[0.4444444444444444,\"#bd3786\"],[0.5555555555555556,\"#d8576b\"],[0.6666666666666666,\"#ed7953\"],[0.7777777777777778,\"#fb9f3a\"],[0.8888888888888888,\"#fdca26\"],[1.0,\"#f0f921\"]]}],\"heatmap\":[{\"type\":\"heatmap\",\"colorbar\":{\"outlinewidth\":0,\"ticks\":\"\"},\"colorscale\":[[0.0,\"#0d0887\"],[0.1111111111111111,\"#46039f\"],[0.2222222222222222,\"#7201a8\"],[0.3333333333333333,\"#9c179e\"],[0.4444444444444444,\"#bd3786\"],[0.5555555555555556,\"#d8576b\"],[0.6666666666666666,\"#ed7953\"],[0.7777777777777778,\"#fb9f3a\"],[0.8888888888888888,\"#fdca26\"],[1.0,\"#f0f921\"]]}],\"heatmapgl\":[{\"type\":\"heatmapgl\",\"colorbar\":{\"outlinewidth\":0,\"ticks\":\"\"},\"colorscale\":[[0.0,\"#0d0887\"],[0.1111111111111111,\"#46039f\"],[0.2222222222222222,\"#7201a8\"],[0.3333333333333333,\"#9c179e\"],[0.4444444444444444,\"#bd3786\"],[0.5555555555555556,\"#d8576b\"],[0.6666666666666666,\"#ed7953\"],[0.7777777777777778,\"#fb9f3a\"],[0.8888888888888888,\"#fdca26\"],[1.0,\"#f0f921\"]]}],\"contourcarpet\":[{\"type\":\"contourcarpet\",\"colorbar\":{\"outlinewidth\":0,\"ticks\":\"\"}}],\"contour\":[{\"type\":\"contour\",\"colorbar\":{\"outlinewidth\":0,\"ticks\":\"\"},\"colorscale\":[[0.0,\"#0d0887\"],[0.1111111111111111,\"#46039f\"],[0.2222222222222222,\"#7201a8\"],[0.3333333333333333,\"#9c179e\"],[0.4444444444444444,\"#bd3786\"],[0.5555555555555556,\"#d8576b\"],[0.6666666666666666,\"#ed7953\"],[0.7777777777777778,\"#fb9f3a\"],[0.8888888888888888,\"#fdca26\"],[1.0,\"#f0f921\"]]}],\"surface\":[{\"type\":\"surface\",\"colorbar\":{\"outlinewidth\":0,\"ticks\":\"\"},\"colorscale\":[[0.0,\"#0d0887\"],[0.1111111111111111,\"#46039f\"],[0.2222222222222222,\"#7201a8\"],[0.3333333333333333,\"#9c179e\"],[0.4444444444444444,\"#bd3786\"],[0.5555555555555556,\"#d8576b\"],[0.6666666666666666,\"#ed7953\"],[0.7777777777777778,\"#fb9f3a\"],[0.8888888888888888,\"#fdca26\"],[1.0,\"#f0f921\"]]}],\"mesh3d\":[{\"type\":\"mesh3d\",\"colorbar\":{\"outlinewidth\":0,\"ticks\":\"\"}}],\"scatter\":[{\"fillpattern\":{\"fillmode\":\"overlay\",\"size\":10,\"solidity\":0.2},\"type\":\"scatter\"}],\"parcoords\":[{\"type\":\"parcoords\",\"line\":{\"colorbar\":{\"outlinewidth\":0,\"ticks\":\"\"}}}],\"scatterpolargl\":[{\"type\":\"scatterpolargl\",\"marker\":{\"colorbar\":{\"outlinewidth\":0,\"ticks\":\"\"}}}],\"bar\":[{\"error_x\":{\"color\":\"#2a3f5f\"},\"error_y\":{\"color\":\"#2a3f5f\"},\"marker\":{\"line\":{\"color\":\"#E5ECF6\",\"width\":0.5},\"pattern\":{\"fillmode\":\"overlay\",\"size\":10,\"solidity\":0.2}},\"type\":\"bar\"}],\"scattergeo\":[{\"type\":\"scattergeo\",\"marker\":{\"colorbar\":{\"outlinewidth\":0,\"ticks\":\"\"}}}],\"scatterpolar\":[{\"type\":\"scatterpolar\",\"marker\":{\"colorbar\":{\"outlinewidth\":0,\"ticks\":\"\"}}}],\"histogram\":[{\"marker\":{\"pattern\":{\"fillmode\":\"overlay\",\"size\":10,\"solidity\":0.2}},\"type\":\"histogram\"}],\"scattergl\":[{\"type\":\"scattergl\",\"marker\":{\"colorbar\":{\"outlinewidth\":0,\"ticks\":\"\"}}}],\"scatter3d\":[{\"type\":\"scatter3d\",\"line\":{\"colorbar\":{\"outlinewidth\":0,\"ticks\":\"\"}},\"marker\":{\"colorbar\":{\"outlinewidth\":0,\"ticks\":\"\"}}}],\"scattermapbox\":[{\"type\":\"scattermapbox\",\"marker\":{\"colorbar\":{\"outlinewidth\":0,\"ticks\":\"\"}}}],\"scatterternary\":[{\"type\":\"scatterternary\",\"marker\":{\"colorbar\":{\"outlinewidth\":0,\"ticks\":\"\"}}}],\"scattercarpet\":[{\"type\":\"scattercarpet\",\"marker\":{\"colorbar\":{\"outlinewidth\":0,\"ticks\":\"\"}}}],\"carpet\":[{\"aaxis\":{\"endlinecolor\":\"#2a3f5f\",\"gridcolor\":\"white\",\"linecolor\":\"white\",\"minorgridcolor\":\"white\",\"startlinecolor\":\"#2a3f5f\"},\"baxis\":{\"endlinecolor\":\"#2a3f5f\",\"gridcolor\":\"white\",\"linecolor\":\"white\",\"minorgridcolor\":\"white\",\"startlinecolor\":\"#2a3f5f\"},\"type\":\"carpet\"}],\"table\":[{\"cells\":{\"fill\":{\"color\":\"#EBF0F8\"},\"line\":{\"color\":\"white\"}},\"header\":{\"fill\":{\"color\":\"#C8D4E3\"},\"line\":{\"color\":\"white\"}},\"type\":\"table\"}],\"barpolar\":[{\"marker\":{\"line\":{\"color\":\"#E5ECF6\",\"width\":0.5},\"pattern\":{\"fillmode\":\"overlay\",\"size\":10,\"solidity\":0.2}},\"type\":\"barpolar\"}],\"pie\":[{\"automargin\":true,\"type\":\"pie\"}]},\"layout\":{\"autotypenumbers\":\"strict\",\"colorway\":[\"#636efa\",\"#EF553B\",\"#00cc96\",\"#ab63fa\",\"#FFA15A\",\"#19d3f3\",\"#FF6692\",\"#B6E880\",\"#FF97FF\",\"#FECB52\"],\"font\":{\"color\":\"#2a3f5f\"},\"hovermode\":\"closest\",\"hoverlabel\":{\"align\":\"left\"},\"paper_bgcolor\":\"white\",\"plot_bgcolor\":\"#E5ECF6\",\"polar\":{\"bgcolor\":\"#E5ECF6\",\"angularaxis\":{\"gridcolor\":\"white\",\"linecolor\":\"white\",\"ticks\":\"\"},\"radialaxis\":{\"gridcolor\":\"white\",\"linecolor\":\"white\",\"ticks\":\"\"}},\"ternary\":{\"bgcolor\":\"#E5ECF6\",\"aaxis\":{\"gridcolor\":\"white\",\"linecolor\":\"white\",\"ticks\":\"\"},\"baxis\":{\"gridcolor\":\"white\",\"linecolor\":\"white\",\"ticks\":\"\"},\"caxis\":{\"gridcolor\":\"white\",\"linecolor\":\"white\",\"ticks\":\"\"}},\"coloraxis\":{\"colorbar\":{\"outlinewidth\":0,\"ticks\":\"\"}},\"colorscale\":{\"sequential\":[[0.0,\"#0d0887\"],[0.1111111111111111,\"#46039f\"],[0.2222222222222222,\"#7201a8\"],[0.3333333333333333,\"#9c179e\"],[0.4444444444444444,\"#bd3786\"],[0.5555555555555556,\"#d8576b\"],[0.6666666666666666,\"#ed7953\"],[0.7777777777777778,\"#fb9f3a\"],[0.8888888888888888,\"#fdca26\"],[1.0,\"#f0f921\"]],\"sequentialminus\":[[0.0,\"#0d0887\"],[0.1111111111111111,\"#46039f\"],[0.2222222222222222,\"#7201a8\"],[0.3333333333333333,\"#9c179e\"],[0.4444444444444444,\"#bd3786\"],[0.5555555555555556,\"#d8576b\"],[0.6666666666666666,\"#ed7953\"],[0.7777777777777778,\"#fb9f3a\"],[0.8888888888888888,\"#fdca26\"],[1.0,\"#f0f921\"]],\"diverging\":[[0,\"#8e0152\"],[0.1,\"#c51b7d\"],[0.2,\"#de77ae\"],[0.3,\"#f1b6da\"],[0.4,\"#fde0ef\"],[0.5,\"#f7f7f7\"],[0.6,\"#e6f5d0\"],[0.7,\"#b8e186\"],[0.8,\"#7fbc41\"],[0.9,\"#4d9221\"],[1,\"#276419\"]]},\"xaxis\":{\"gridcolor\":\"white\",\"linecolor\":\"white\",\"ticks\":\"\",\"title\":{\"standoff\":15},\"zerolinecolor\":\"white\",\"automargin\":true,\"zerolinewidth\":2},\"yaxis\":{\"gridcolor\":\"white\",\"linecolor\":\"white\",\"ticks\":\"\",\"title\":{\"standoff\":15},\"zerolinecolor\":\"white\",\"automargin\":true,\"zerolinewidth\":2},\"scene\":{\"xaxis\":{\"backgroundcolor\":\"#E5ECF6\",\"gridcolor\":\"white\",\"linecolor\":\"white\",\"showbackground\":true,\"ticks\":\"\",\"zerolinecolor\":\"white\",\"gridwidth\":2},\"yaxis\":{\"backgroundcolor\":\"#E5ECF6\",\"gridcolor\":\"white\",\"linecolor\":\"white\",\"showbackground\":true,\"ticks\":\"\",\"zerolinecolor\":\"white\",\"gridwidth\":2},\"zaxis\":{\"backgroundcolor\":\"#E5ECF6\",\"gridcolor\":\"white\",\"linecolor\":\"white\",\"showbackground\":true,\"ticks\":\"\",\"zerolinecolor\":\"white\",\"gridwidth\":2}},\"shapedefaults\":{\"line\":{\"color\":\"#2a3f5f\"}},\"annotationdefaults\":{\"arrowcolor\":\"#2a3f5f\",\"arrowhead\":0,\"arrowwidth\":1},\"geo\":{\"bgcolor\":\"white\",\"landcolor\":\"#E5ECF6\",\"subunitcolor\":\"white\",\"showland\":true,\"showlakes\":true,\"lakecolor\":\"white\"},\"title\":{\"x\":0.05},\"mapbox\":{\"style\":\"light\"}}},\"width\":1000,\"height\":500},                        {\"responsive\": true}                    ).then(function(){\n",
       "                            \n",
       "var gd = document.getElementById('d3a2c393-f887-46bd-8ce3-5f57aa356873');\n",
       "var x = new MutationObserver(function (mutations, observer) {{\n",
       "        var display = window.getComputedStyle(gd).display;\n",
       "        if (!display || display === 'none') {{\n",
       "            console.log([gd, 'removed!']);\n",
       "            Plotly.purge(gd);\n",
       "            observer.disconnect();\n",
       "        }}\n",
       "}});\n",
       "\n",
       "// Listen for the removal of the full notebook cells\n",
       "var notebookContainer = gd.closest('#notebook-container');\n",
       "if (notebookContainer) {{\n",
       "    x.observe(notebookContainer, {childList: true});\n",
       "}}\n",
       "\n",
       "// Listen for the clearing of the current output cell\n",
       "var outputEl = gd.closest('.output');\n",
       "if (outputEl) {{\n",
       "    x.observe(outputEl, {childList: true});\n",
       "}}\n",
       "\n",
       "                        })                };                });            </script>        </div>"
      ]
     },
     "metadata": {},
     "output_type": "display_data"
    }
   ],
   "source": [
    "def plotTable(customer_number, interarrival_time, arrival_times, service_times, time_service_begin, \n",
    "               queue_time, time_service_end, time_in_system, idle_time):\n",
    "    fig = go.Figure(data=[go.Table(\n",
    "        header=dict(values=['<b>Customer</b>', '<b>Interarrival time (min)</b>', '<b>Arrival time</b>',\n",
    "                            '<b>Service time (min)</b>', '<b>Time service begins</b>', '<b>Waiting time in queue (min)</b>',\n",
    "                            '<b>Time service ends</b>', '<b>Time customer spends in system</b>', '<b>Idle time of server</b>'],    \n",
    "                    line_color='darkslategray',\n",
    "                    fill_color='lavender',\n",
    "                    font_size=13,\n",
    "                    align='center'),\n",
    "        cells=dict(values=[customer_number, interarrival_time, arrival_times, service_times, \n",
    "                           time_service_begin, queue_time, time_service_end, time_in_system, idle_time],\n",
    "                   line_color='gray',\n",
    "                   fill_color = [['white','lightgrey','white', 'lightgrey',]*50],\n",
    "                   align='center'))\n",
    "    ])\n",
    "\n",
    "    fig.update_layout(width=1000, height=500)\n",
    "    fig.show()\n",
    "\n",
    "plotTable(customer_number, interarrival_time, arrival_times, service_times, time_service_begin, \n",
    "               queue_time, time_service_end, time_in_system, idle_time)"
   ]
  },
  {
   "cell_type": "markdown",
   "id": "832f0f83",
   "metadata": {},
   "source": [
    "## 4. Typical Performance Measures of a Queuing System"
   ]
  },
  {
   "cell_type": "code",
   "execution_count": 240,
   "id": "5372fa61",
   "metadata": {},
   "outputs": [
    {
     "name": "stdout",
     "output_type": "stream",
     "text": [
      "\n",
      "\tTypical Performance Measures of a Queuing System\n",
      "\t================================================\n",
      "\n",
      "𝐴𝑣𝑒𝑟𝑎𝑔𝑒 𝑊𝑎𝑖𝑡𝑖𝑛𝑔 𝑇𝑖𝑚𝑒 = 1.11 min\n",
      "-----------------------------------------------\n",
      "𝑃𝑟𝑜𝑏𝑎𝑏𝑖𝑙𝑖𝑡𝑦 (𝑤𝑎𝑖𝑡) = 0.45\n",
      "-----------------------------------------------\n",
      "𝑃𝑟𝑜𝑏𝑎𝑏𝑖𝑙𝑖𝑡𝑦 𝑖𝑑𝑙𝑒 𝑠𝑒𝑟𝑣𝑒𝑟 = 0.250 \n",
      "-----------------------------------------------\n",
      "𝐴𝑣𝑒𝑟𝑎𝑔𝑒 𝑠𝑒𝑟𝑣𝑖𝑐𝑒 𝑡𝑖𝑚𝑒 = 3.39 min\n",
      "-----------------------------------------------\n",
      "𝐴𝑣𝑒𝑟𝑎𝑔𝑒 𝑡𝑖𝑚𝑒 𝑏𝑒𝑡𝑤𝑒𝑒𝑛 𝑎𝑟𝑟𝑖𝑣𝑎𝑙𝑠 = 4.54 min\n",
      "-----------------------------------------------\n",
      "𝐴𝑣𝑒𝑟𝑎𝑔𝑒 𝑤𝑎𝑖𝑡𝑖𝑛𝑔 𝑡𝑖𝑚𝑒 𝑜𝑓 𝑡ℎ𝑜𝑠𝑒 𝑤ℎ𝑜 𝑤𝑎𝑖𝑡 = 2.47 min\n",
      "-----------------------------------------------\n",
      "𝐴𝑣𝑒𝑟𝑎𝑔𝑒 𝑡𝑖𝑚𝑒 𝑎 𝑐𝑢𝑠𝑡𝑜𝑚𝑒𝑟 𝑠𝑝𝑒𝑛𝑑𝑠 𝑖𝑛 𝑡ℎ𝑒 𝑠𝑦𝑠𝑡𝑒𝑚= 4.50 min\n"
     ]
    }
   ],
   "source": [
    "# Average waiting time = (total times customers wait in queue)/(total number of customers)\n",
    "avg_wait_time = sum(queue_time)/no_of_customers\n",
    "\n",
    "# Probability of waiting = (number of customers who wait)/(total number of customers)\n",
    "wait_customers = list(filter(lambda x:x>0, queue_time))\n",
    "no_wait_customers = len(wait_customers)\n",
    "probability_wait = (no_wait_customers / no_of_customers)\n",
    "\n",
    "# Probability of idle server = (total idle time of server)/(total runtime of simulation)\n",
    "probability_idle_server = sum(idle_time) / time_service_end[no_of_customers - 1]\n",
    "\n",
    "# Average service time = (total service time)/(total number of customers)\n",
    "avg_service_time = sum(service_times) / no_of_customers\n",
    "\n",
    "# Average time between arrivals = (sum of interarrival times)/(total number of customers - 1)\n",
    "avg_interarrival_time = sum(interarrival_time) / (no_of_customers - 1)\n",
    "\n",
    "# Average waiting time of those who wait = (total time of customers wait in queue)/(total number of customers who wait)\n",
    "avg_waiting_time = sum(queue_time) / no_wait_customers\n",
    "\n",
    "\n",
    "# Average time a customer spends in system = (total Time in system)/(total number of customers)\n",
    "total_time_insystem = totalTimeInSystem(arrival_times, service_times, no_of_customers)\n",
    "avg_system_time = sum(total_time_insystem) / no_of_customers\n",
    "\n",
    "\n",
    "print(\"\\n\\tTypical Performance Measures of a Queuing System\")\n",
    "print(\"\\t================================================\\n\")\n",
    "print(\"𝐴𝑣𝑒𝑟𝑎𝑔𝑒 𝑊𝑎𝑖𝑡𝑖𝑛𝑔 𝑇𝑖𝑚𝑒 = {:.2f} min\".format(avg_wait_time))\n",
    "print(\"-----------------------------------------------\")\n",
    "print(\"𝑃𝑟𝑜𝑏𝑎𝑏𝑖𝑙𝑖𝑡𝑦 (𝑤𝑎𝑖𝑡) = {:.2f}\".format(probability_wait))\n",
    "print(\"-----------------------------------------------\")\n",
    "print(\"𝑃𝑟𝑜𝑏𝑎𝑏𝑖𝑙𝑖𝑡𝑦 𝑖𝑑𝑙𝑒 𝑠𝑒𝑟𝑣𝑒𝑟 = {:.3f} \".format(probability_idle_server))\n",
    "print(\"-----------------------------------------------\")\n",
    "print(\"𝐴𝑣𝑒𝑟𝑎𝑔𝑒 𝑠𝑒𝑟𝑣𝑖𝑐𝑒 𝑡𝑖𝑚𝑒 = {:.2f} min\".format(avg_service_time))\n",
    "print(\"-----------------------------------------------\")\n",
    "print(\"𝐴𝑣𝑒𝑟𝑎𝑔𝑒 𝑡𝑖𝑚𝑒 𝑏𝑒𝑡𝑤𝑒𝑒𝑛 𝑎𝑟𝑟𝑖𝑣𝑎𝑙𝑠 = {:.2f} min\".format(avg_interarrival_time))\n",
    "print(\"-----------------------------------------------\")\n",
    "print(\"𝐴𝑣𝑒𝑟𝑎𝑔𝑒 𝑤𝑎𝑖𝑡𝑖𝑛𝑔 𝑡𝑖𝑚𝑒 𝑜𝑓 𝑡ℎ𝑜𝑠𝑒 𝑤ℎ𝑜 𝑤𝑎𝑖𝑡 = {:.2f} min\".format(avg_waiting_time))\n",
    "print(\"-----------------------------------------------\")\n",
    "print(\"𝐴𝑣𝑒𝑟𝑎𝑔𝑒 𝑡𝑖𝑚𝑒 𝑎 𝑐𝑢𝑠𝑡𝑜𝑚𝑒𝑟 𝑠𝑝𝑒𝑛𝑑𝑠 𝑖𝑛 𝑡ℎ𝑒 𝑠𝑦𝑠𝑡𝑒𝑚= {:.2f} min\".format(avg_system_time))"
   ]
  },
  {
   "cell_type": "markdown",
   "id": "e448a077",
   "metadata": {},
   "source": [
    "## 5. Performance Histograms"
   ]
  },
  {
   "cell_type": "markdown",
   "id": "c885f9a9",
   "metadata": {},
   "source": [
    "### 5.1 Ploting the Frequency of individual customer waiting time"
   ]
  },
  {
   "cell_type": "code",
   "execution_count": 241,
   "id": "21937053",
   "metadata": {},
   "outputs": [
    {
     "data": {
      "image/png": "[encoded data removed]",
      "text/plain": [
       "<Figure size 640x480 with 1 Axes>"
      ]
     },
     "metadata": {},
     "output_type": "display_data"
    }
   ],
   "source": [
    "plt.style.use(\"bmh\")\n",
    "fig, ax = plt.subplots()\n",
    "ax.hist(queue_time, bins = 15, linewidth = 1.0, align='mid', edgecolor = \"white\")\n",
    "x = [0, 1, 2, 3, 4, 5, 6, 7, 8, 9, 10]\n",
    "default_x_ticks = range(len(x))\n",
    "plt.xticks(default_x_ticks, x)\n",
    "plt.ylim(0, 70)\n",
    "plt.xlabel(\"( Queue waiting Times )\")\n",
    "plt.ylabel(\"( Frequency )\")\n",
    "plt.title(\"(Frequency of individual customer waiting time)\")\n",
    "plt.show()"
   ]
  },
  {
   "cell_type": "markdown",
   "id": "5da0378d",
   "metadata": {},
   "source": [
    "### 5.2 Ploting the average customer waiting"
   ]
  },
  {
   "cell_type": "code",
   "execution_count": 242,
   "id": "2c030a05",
   "metadata": {},
   "outputs": [
    {
     "data": {
      "image/png": "[encoded data removed]",
      "text/plain": [
       "<Figure size 640x480 with 1 Axes>"
      ]
     },
     "metadata": {},
     "output_type": "display_data"
    }
   ],
   "source": [
    "plt.style.use(\"bmh\")\n",
    "fig, ax = plt.subplots()\n",
    "ax.hist(wait_customers, bins = 15, linewidth = 1.0, align='mid', edgecolor = \"white\")\n",
    "plt.xlim(0, 20)\n",
    "plt.ylim(0, 20)\n",
    "plt.title(\"(Histogram for average customer waiting)\")\n",
    "plt.show()\n"
   ]
  }
 ],
 "metadata": {
  "kernelspec": {
   "display_name": "Python 3 (ipykernel)",
   "language": "python",
   "name": "python3"
  },
  "language_info": {
   "codemirror_mode": {
    "name": "ipython",
    "version": 3
   },
   "file_extension": ".py",
   "mimetype": "text/x-python",
   "name": "python",
   "nbconvert_exporter": "python",
   "pygments_lexer": "ipython3",
   "version": "3.9.16"
  }
 },
 "nbformat": 4,
 "nbformat_minor": 5
}
